{
 "cells": [
  {
   "cell_type": "markdown",
   "metadata": {},
   "source": [
    "## Import libraries"
   ]
  },
  {
   "cell_type": "code",
   "execution_count": null,
   "metadata": {},
   "outputs": [],
   "source": [
    "import sys"
   ]
  },
  {
   "cell_type": "code",
   "execution_count": null,
   "metadata": {},
   "outputs": [],
   "source": [
    "import os\n",
    "import subprocess"
   ]
  },
  {
   "cell_type": "markdown",
   "metadata": {},
   "source": [
    "## Function for image extraction "
   ]
  },
  {
   "cell_type": "code",
   "execution_count": null,
   "metadata": {},
   "outputs": [],
   "source": [
    "def image_exporter(pdf_name):\n",
    "    if not os.path.exists(pdf_name):\n",
    "        os.makedirs(pdf_name)\n",
    "\n",
    "    cmd = [\"C:/../pdfimages\", \n",
    "            \"-png\", pdf_name+\".pdf\", \n",
    "           '{}/image'.format(pdf_name)]\n",
    "\n",
    "    try:\n",
    "        subprocess.call(cmd)\n",
    "        print('Images extracted:')\n",
    "        if len(os.listdir(pdf_name))==0:\n",
    "            print(\"no images found in file\"+pdf_name)\n",
    "        else:\n",
    "            print(os.listdir(pdf_name))\n",
    "    except Exception as e:\n",
    "        print('image extraction could not be executed due to the following error: ')\n",
    "        print(e)"
   ]
  },
  {
   "cell_type": "code",
   "execution_count": null,
   "metadata": {},
   "outputs": [],
   "source": [
    "pdf_names = ['name1','name2','name3']"
   ]
  },
  {
   "cell_type": "code",
   "execution_count": null,
   "metadata": {},
   "outputs": [],
   "source": [
    "for pdf_name in pdf_names:\n",
    "    image_exporter(pdf_name)"
   ]
  },
  {
   "cell_type": "code",
   "execution_count": null,
   "metadata": {},
   "outputs": [],
   "source": []
  }
 ],
 "metadata": {
  "kernelspec": {
   "display_name": "Python 3",
   "language": "python",
   "name": "python3"
  },
  "language_info": {
   "codemirror_mode": {
    "name": "ipython",
    "version": 3
   },
   "file_extension": ".py",
   "mimetype": "text/x-python",
   "name": "python",
   "nbconvert_exporter": "python",
   "pygments_lexer": "ipython3",
   "version": "3.6.5"
  }
 },
 "nbformat": 4,
 "nbformat_minor": 2
}
