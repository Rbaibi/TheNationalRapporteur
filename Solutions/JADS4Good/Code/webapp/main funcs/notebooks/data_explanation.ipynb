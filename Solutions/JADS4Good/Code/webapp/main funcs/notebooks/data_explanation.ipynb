{
 "cells": [
  {
   "cell_type": "code",
   "execution_count": 2,
   "metadata": {},
   "outputs": [],
   "source": [
    "import pandas as pd\n",
    "import numpy as np\n",
    "import matplotlib.pyplot as plt"
   ]
  },
  {
   "cell_type": "markdown",
   "metadata": {},
   "source": [
    "## Reading file"
   ]
  },
  {
   "cell_type": "code",
   "execution_count": 19,
   "metadata": {},
   "outputs": [],
   "source": [
    "df = pd.read_csv(\"../data/data.csv\", delimiter=\"\\t\", index_col=0)"
   ]
  },
  {
   "cell_type": "markdown",
   "metadata": {},
   "source": [
    "# When reading value from a particular cell please use eval(). Something went wrong while saving data to the file. I'll fix this later."
   ]
  },
  {
   "cell_type": "code",
   "execution_count": 21,
   "metadata": {
    "scrolled": false
   },
   "outputs": [
    {
     "data": {
      "text/plain": [
       "['In de afgelopen jaren strandden strafrechtelijke zaken van uitbuiting buiten de seksindustrie (een verzamelnaam voor arbeidsuitbuiting en criminele uitbuiting) vroegtijdig, omdat onzeker was of een gedraging ook echt strafbaar was als mensenhandel. Nationaal Rapporteur Herman Bolhaar wil dat het Openbaar Ministerie, de politie en de Inspectie Sociale Zaken en Werkgelegenheid meer van dit soort zaken voor de rechter gaan brengen, zodat een heldere juridische norm ontstaat. Bolhaar: ‘Slachtoffers van deze vormen van mensenhandel hebben vaak een migratieachtergrond, spreken de taal niet en kennen hun rechten niet. Hiervan misbruik maken mag niet lonen.’',\n",
       " 'Minder verdachten van mensenhandel\\nHet aantal verdachten van alle vormen van mensenhandel dat jaarlijks bij het Openbaar Ministerie wordt ingeschreven is in de afgelopen jaren enorm gedaald van 257 zaken in 2013 tot 144 in 2017. Dit moet weer gaan toenemen nu in de Veiligheidsagenda, waarin staat wat de nieuwe prioriteiten van de politie zijn, is vastgesteld dat er 190 mensenhandelzaken naar het OM moeten in 2019, en 240 zaken in 2022. Dit is gepresenteerd als een intensivering, maar Bolhaar vindt het onvoldoende: ‘Het is een herstel van wat in de jaren hiervoor verloren is gegaan, terwijl een ernstig delict als mensenhandel juist vraagt om duidelijke normstelling en dus vaker strafrechtelijk aanpakken van daders.’ Ook valt op dat een kwart van de daders nog geen 23 jaar is. Bij binnenlandse seksuele uitbuiting is dit zelfs ruim een derde. De rapporteur vindt het daarom belangrijk dat wordt ingezet op het voorkomen van mensenhandel, zeker door jonge daders.',\n",
       " 'Eenduidigheid in straffen\\nDe straffen die rechters opleggen voor mensenhandel lopen zeer uiteen. Het is onduidelijk welke factoren rechters meewegen in het bepalen van de straf. Of minderjarigheid van het slachtoffer, dat de wetgever als strafverzwarende omstandigheid ziet, ook tot een hogere straf leidt is bijvoorbeeld niet te zeggen. Volgens Bolhaar is meer duidelijkheid over de straffen hard nodig. Dit is van belang om tot passende en consistente straffen te komen. Hij beveelt de staatssecretaris van Justitie en Veiligheid aan om onderzoek te doen naar welke factoren (bewust dan wel onbewust) meespelen wanneer de rechter de straf bepaalt.',\n",
       " 'Tijd voor resultaten\\nEind 2018 zijn veel maatregelen aangekondigd in het actieprogramma Samen tegen mensenhandel, waarbij vier ministeries betrokken zijn. De rapporteur is blij dat veel organisaties bevlogen werken aan de aanpak van mensenhandel, maar hij blijft ook kritisch op het feit dat de effecten van de plannen uit het actieprogramma niet goed te meten zijn. Bolhaar: ‘Er is geen plan om de resultaten te monitoren. Bovendien is het momenteel niet mogelijk om de hele strafrechtelijke aanpak in beeld te krijgen.’ Zo is er volgens de Nationaal Rapporteur geen zicht op welke signalen wel of niet tot een opsporingsonderzoek leiden. Ook de effecten van nieuwe initiatieven, zoals bestuursrechtelijke interventies, kunnen op dit moment niet gemeten worden. Bovendien ontbreekt een schatting van hoeveel daders in totaal mensenhandel plegen. Bolhaar: ‘Voor professionals die zich dagelijks bezighouden met mensenhandel is dit cruciale informatie om van te leren en om de aanpak te verbeteren. Met alleen ambitieuze plannen is nog geen slachtoffer geholpen en geen dader gestopt. Daarom moet de komende jaren veel aandacht worden besteed aan goede uitvoering van het voorgenomen beleid.’']"
      ]
     },
     "execution_count": 21,
     "metadata": {},
     "output_type": "execute_result"
    }
   ],
   "source": [
    "eval(df['Article'][0])"
   ]
  },
  {
   "cell_type": "markdown",
   "metadata": {},
   "source": [
    "## Structure of the dataframe"
   ]
  },
  {
   "cell_type": "markdown",
   "metadata": {},
   "source": [
    "### News --> Title of the article (page)\n",
    "### Meta-data --> Some extra info about the article\n",
    "### Intro --> Introduction paragraph of the article (More like a summary)\n",
    "### Article --> Actual content of the article\n",
    "### Downloads --> Names and info of PDFs (document) associated with the article\n",
    "### PDFs --> Name of the PDF files for these articles (these PDFs are already donloaded by the scraper)\n",
    "### Misc --> (We can ignore this)"
   ]
  },
  {
   "cell_type": "code",
   "execution_count": 22,
   "metadata": {},
   "outputs": [
    {
     "data": {
      "text/html": [
       "<div>\n",
       "<style scoped>\n",
       "    .dataframe tbody tr th:only-of-type {\n",
       "        vertical-align: middle;\n",
       "    }\n",
       "\n",
       "    .dataframe tbody tr th {\n",
       "        vertical-align: top;\n",
       "    }\n",
       "\n",
       "    .dataframe thead th {\n",
       "        text-align: right;\n",
       "    }\n",
       "</style>\n",
       "<table border=\"1\" class=\"dataframe\">\n",
       "  <thead>\n",
       "    <tr style=\"text-align: right;\">\n",
       "      <th></th>\n",
       "      <th>News</th>\n",
       "      <th>Meta</th>\n",
       "      <th>Intro</th>\n",
       "      <th>Article</th>\n",
       "      <th>Downloads</th>\n",
       "      <th>PDFs</th>\n",
       "      <th>Misc</th>\n",
       "    </tr>\n",
       "  </thead>\n",
       "  <tbody>\n",
       "    <tr>\n",
       "      <th>0</th>\n",
       "      <td>Dadermonitor mensenhandel 2013-2017</td>\n",
       "      <td>Nieuwsbericht | 2-5-2019 | 07:00</td>\n",
       "      <td>['Er worden jaarlijks maar zo’n 23 zaken van a...</td>\n",
       "      <td>['In de afgelopen jaren strandden strafrechtel...</td>\n",
       "      <td>['Factsheet bij de Dadermonitor mensenhandel 2...</td>\n",
       "      <td>['Factsheet%20Dadermonitor%20mensenhandel%2020...</td>\n",
       "      <td>[]</td>\n",
       "    </tr>\n",
       "    <tr>\n",
       "      <th>1</th>\n",
       "      <td>Brief Nationaal Rapporteur naar aanleiding van...</td>\n",
       "      <td>Nieuwsbericht | 23-4-2019 | 15:21</td>\n",
       "      <td>['Op woensdag 24 april spreekt de Tweede Kamer...</td>\n",
       "      <td>['']</td>\n",
       "      <td>['Brief Nationaal Rapporteur t.b.v. AO Huiseli...</td>\n",
       "      <td>['12035%20Brief%20NR%20AO%20Huiselijk%20geweld...</td>\n",
       "      <td>[]</td>\n",
       "    </tr>\n",
       "  </tbody>\n",
       "</table>\n",
       "</div>"
      ],
      "text/plain": [
       "                                                News  \\\n",
       "0                Dadermonitor mensenhandel 2013-2017   \n",
       "1  Brief Nationaal Rapporteur naar aanleiding van...   \n",
       "\n",
       "                                Meta  \\\n",
       "0   Nieuwsbericht | 2-5-2019 | 07:00   \n",
       "1  Nieuwsbericht | 23-4-2019 | 15:21   \n",
       "\n",
       "                                               Intro  \\\n",
       "0  ['Er worden jaarlijks maar zo’n 23 zaken van a...   \n",
       "1  ['Op woensdag 24 april spreekt de Tweede Kamer...   \n",
       "\n",
       "                                             Article  \\\n",
       "0  ['In de afgelopen jaren strandden strafrechtel...   \n",
       "1                                               ['']   \n",
       "\n",
       "                                           Downloads  \\\n",
       "0  ['Factsheet bij de Dadermonitor mensenhandel 2...   \n",
       "1  ['Brief Nationaal Rapporteur t.b.v. AO Huiseli...   \n",
       "\n",
       "                                                PDFs Misc  \n",
       "0  ['Factsheet%20Dadermonitor%20mensenhandel%2020...   []  \n",
       "1  ['12035%20Brief%20NR%20AO%20Huiselijk%20geweld...   []  "
      ]
     },
     "execution_count": 22,
     "metadata": {},
     "output_type": "execute_result"
    }
   ],
   "source": [
    "df.head(2)"
   ]
  }
 ],
 "metadata": {
  "kernelspec": {
   "display_name": "Python [default]",
   "language": "python",
   "name": "python3"
  },
  "language_info": {
   "codemirror_mode": {
    "name": "ipython",
    "version": 3
   },
   "file_extension": ".py",
   "mimetype": "text/x-python",
   "name": "python",
   "nbconvert_exporter": "python",
   "pygments_lexer": "ipython3",
   "version": "3.6.3"
  }
 },
 "nbformat": 4,
 "nbformat_minor": 2
}
